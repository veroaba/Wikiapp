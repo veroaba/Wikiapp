{
 "cells": [
  {
   "cell_type": "markdown",
   "id": "8ee91e16-0029-4e9e-aeca-9fc3ce4d3da1",
   "metadata": {},
   "source": [
    "---\n",
    "Title: Consule Module\n",
    "---"
   ]
  },
  {
   "cell_type": "code",
   "execution_count": 5,
   "id": "2623a9be-f4d9-44de-8e50-c0db6048f68e",
   "metadata": {},
   "outputs": [],
   "source": [
    "from wikiapp.console import main"
   ]
  },
  {
   "cell_type": "code",
   "execution_count": 6,
   "id": "f2c71842-6221-4b2c-87a6-7c143cc6cb80",
   "metadata": {},
   "outputs": [],
   "source": [
    "from nbdev import show_doc"
   ]
  },
  {
   "cell_type": "code",
   "execution_count": 3,
   "id": "c65c2cd4-c903-45f5-aa34-6e5498cdf3b9",
   "metadata": {},
   "outputs": [
    {
     "data": {
      "text/markdown": [
       "---\n",
       "\n",
       "### <Command main>\n",
       "\n",
       ">      <Command main> (*args:Any, **kwargs:Any)\n",
       "\n",
       "*The ultramodern Python project.*"
      ],
      "text/plain": [
       "---\n",
       "\n",
       "### <Command main>\n",
       "\n",
       ">      <Command main> (*args:Any, **kwargs:Any)\n",
       "\n",
       "*The ultramodern Python project.*"
      ]
     },
     "execution_count": 3,
     "metadata": {},
     "output_type": "execute_result"
    }
   ],
   "source": [
    "show_doc(main)"
   ]
  },
  {
   "cell_type": "markdown",
   "id": "c65f6826-882c-40a0-bb74-92b65a026c6d",
   "metadata": {},
   "source": [
    "## Examples "
   ]
  },
  {
   "cell_type": "code",
   "execution_count": null,
   "id": "c819d2d0-8048-49e5-bcdb-f5b2a4014fd6",
   "metadata": {},
   "outputs": [],
   "source": []
  }
 ],
 "metadata": {
  "kernelspec": {
   "display_name": "Python 3 (ipykernel)",
   "language": "python",
   "name": "python3"
  },
  "language_info": {
   "codemirror_mode": {
    "name": "ipython",
    "version": 3
   },
   "file_extension": ".py",
   "mimetype": "text/x-python",
   "name": "python",
   "nbconvert_exporter": "python",
   "pygments_lexer": "ipython3",
   "version": "3.12.3"
  }
 },
 "nbformat": 4,
 "nbformat_minor": 5
}
