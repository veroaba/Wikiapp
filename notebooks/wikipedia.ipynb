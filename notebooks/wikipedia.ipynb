{
 "cells": [
  {
   "cell_type": "markdown",
   "id": "8e420ca6-673e-44a2-aadf-963cc199d335",
   "metadata": {},
   "source": [
    "---\n",
    "title: Wikipedia Module\n",
    "---"
   ]
  },
  {
   "cell_type": "code",
   "execution_count": 6,
   "id": "115ac5d6-a75e-42d2-9940-2e97e3c57321",
   "metadata": {},
   "outputs": [],
   "source": [
    "from wikiapp.wikipedia import random_page, Page"
   ]
  },
  {
   "cell_type": "code",
   "execution_count": 7,
   "id": "8cddca6b-a339-4d80-bc0c-be8b07861013",
   "metadata": {},
   "outputs": [],
   "source": [
    "from nbdev import show_doc"
   ]
  },
  {
   "cell_type": "code",
   "execution_count": 8,
   "id": "1f88b414-3a50-49d9-8bca-637eefe7c774",
   "metadata": {},
   "outputs": [
    {
     "data": {
      "text/markdown": [
       "---\n",
       "\n",
       "### Page\n",
       "\n",
       ">      Page (title:str, extract:str)\n",
       "\n",
       "*A Page Dataclass to represent the return value from wikipedia*"
      ],
      "text/plain": [
       "---\n",
       "\n",
       "### Page\n",
       "\n",
       ">      Page (title:str, extract:str)\n",
       "\n",
       "*A Page Dataclass to represent the return value from wikipedia*"
      ]
     },
     "execution_count": 8,
     "metadata": {},
     "output_type": "execute_result"
    }
   ],
   "source": [
    "show_doc(Page)"
   ]
  },
  {
   "cell_type": "code",
   "execution_count": 9,
   "id": "f44b07bb-3f1a-4aad-928a-1835148884bc",
   "metadata": {},
   "outputs": [
    {
     "data": {
      "text/markdown": [
       "---\n",
       "\n",
       "### random_page\n",
       "\n",
       ">      random_page (language:str='en')\n",
       "\n",
       "*Get a random page from wikipedia*\n",
       "\n",
       "|    | **Type** | **Default** | **Details** |\n",
       "| -- | -------- | ----------- | ----------- |\n",
       "| language | str | en | The language you want to use, as a two character string. |\n",
       "| **Returns** | **Page** |  | **Returns a Page Object** |"
      ],
      "text/plain": [
       "---\n",
       "\n",
       "### random_page\n",
       "\n",
       ">      random_page (language:str='en')\n",
       "\n",
       "*Get a random page from wikipedia*\n",
       "\n",
       "|    | **Type** | **Default** | **Details** |\n",
       "| -- | -------- | ----------- | ----------- |\n",
       "| language | str | en | The language you want to use, as a two character string. |\n",
       "| **Returns** | **Page** |  | **Returns a Page Object** |"
      ]
     },
     "execution_count": 9,
     "metadata": {},
     "output_type": "execute_result"
    }
   ],
   "source": [
    "show_doc(random_page)"
   ]
  },
  {
   "cell_type": "markdown",
   "id": "6f2fed80-1caa-44ba-ad22-71bc3801d4e1",
   "metadata": {},
   "source": [
    "## Example"
   ]
  },
  {
   "cell_type": "code",
   "execution_count": 11,
   "id": "66a433be-617f-48e1-b091-300ad62375f3",
   "metadata": {},
   "outputs": [
    {
     "name": "stdout",
     "output_type": "stream",
     "text": [
      "TITLE Battle of Petrikowka\n",
      "EXTRACT The Battle of Petrikowka took place between 27 and 30 September 1941, during World War II. Fought between Italian and Soviet forces, it was the first significant engagement involving the Italian Expeditionary Corps in Russia.\n"
     ]
    }
   ],
   "source": [
    "page = random_page()\n",
    "print(\"TITLE\", page.title)\n",
    "print(\"EXTRACT\", page.extract)"
   ]
  },
  {
   "cell_type": "markdown",
   "id": "fc192a37-fd20-46f3-aef8-58831a2c82bd",
   "metadata": {},
   "source": [
    "If you do this again, you will have another random page"
   ]
  },
  {
   "cell_type": "code",
   "execution_count": 12,
   "id": "4ff6682d-4d54-493f-a9de-cbfa97942434",
   "metadata": {},
   "outputs": [
    {
     "name": "stdout",
     "output_type": "stream",
     "text": [
      "TITLE Vermont Route 14\n",
      "EXTRACT Vermont Route 14 (VT 14) is a 108.946-mile-long (175.332 km) north–south state highway in northeastern Vermont, United States. It extends from U.S. Route 4 (US 4) and US 5 in White River Junction to VT 100 in Newport. Between White River Junction and the city of Barre, the route parallels Interstate 89 (I-89). VT 14 was originally designated in 1922 as part of the New England road marking system. Its north end was truncated in 1926 as a result of the designation of US 2 but was extended north along an old alignment of VT 12 in the 1960s.\n"
     ]
    }
   ],
   "source": [
    "page = random_page()\n",
    "print(\"TITLE\", page.title)\n",
    "print(\"EXTRACT\", page.extract)"
   ]
  },
  {
   "cell_type": "markdown",
   "id": "2a8d17c6-98bf-4b73-9bcd-504ef75de762",
   "metadata": {},
   "source": [
    "You can change the language, if you want:"
   ]
  },
  {
   "cell_type": "code",
   "execution_count": 16,
   "id": "4e524b40-6270-47da-88c5-1e2fd1482378",
   "metadata": {
    "scrolled": true
   },
   "outputs": [
    {
     "name": "stdout",
     "output_type": "stream",
     "text": [
      "TITLE Dakota Blue Richards\n",
      "EXTRACT Dakota Blue Richards, née le 11 avril 1994 à South Kensington, à Londres au Royaume-Uni, est une actrice britannique.\n"
     ]
    }
   ],
   "source": [
    "page = random_page(language=\"fr\") #Change in language\n",
    "print(\"TITLE\", page.title)\n",
    "print(\"EXTRACT\", page.extract)"
   ]
  },
  {
   "cell_type": "code",
   "execution_count": null,
   "id": "88186091-671c-47c5-b9b8-2be456fb4a5d",
   "metadata": {},
   "outputs": [],
   "source": []
  }
 ],
 "metadata": {
  "kernelspec": {
   "display_name": "Python 3 (ipykernel)",
   "language": "python",
   "name": "python3"
  },
  "language_info": {
   "codemirror_mode": {
    "name": "ipython",
    "version": 3
   },
   "file_extension": ".py",
   "mimetype": "text/x-python",
   "name": "python",
   "nbconvert_exporter": "python",
   "pygments_lexer": "ipython3",
   "version": "3.12.3"
  }
 },
 "nbformat": 4,
 "nbformat_minor": 5
}
